{
 "cells": [
  {
   "cell_type": "code",
   "execution_count": 9,
   "metadata": {},
   "outputs": [],
   "source": [
    "import numpy as np\n",
    "from tqdm import tqdm\n",
    "from data import Catalogue"
   ]
  },
  {
   "cell_type": "code",
   "execution_count": 2,
   "metadata": {},
   "outputs": [
    {
     "name": "stdout",
     "output_type": "stream",
     "text": [
      "Unit cell catalogue with 67238 entries\n",
      "Unit cell catalogue with 69793 entries\n",
      "Unit cell catalogue with 69510 entries\n",
      "Unit cell catalogue with 68729 entries\n",
      "Unit cell catalogue with 67450 entries\n",
      "Unit cell catalogue with 68799 entries\n",
      "Unit cell catalogue with 67876 entries\n",
      "Unit cell catalogue with 68799 entries\n",
      "Unit cell catalogue with 69225 entries\n",
      "Unit cell catalogue with 68161 entries\n",
      "Unit cell catalogue with 67238 entries\n",
      "Unit cell catalogue with 69367 entries\n",
      "Unit cell catalogue with 70007 entries\n",
      "Unit cell catalogue with 67735 entries\n",
      "Unit cell catalogue with 68231 entries\n",
      "Unit cell catalogue with 68799 entries\n",
      "Unit cell catalogue with 67450 entries\n",
      "Unit cell catalogue with 67592 entries\n",
      "Unit cell catalogue with 70077 entries\n",
      "Unit cell catalogue with 68161 entries\n",
      "Number of base names: 9041\n"
     ]
    }
   ],
   "source": [
    "base_names_0 = []\n",
    "for i in range(10):\n",
    "    cat = Catalogue.from_file(f'E:/new_dset_0/cat_{i:02d}.lat', 0)\n",
    "    print(cat)\n",
    "    base_names_0.extend(['_'.join(name.split('_')[:3]) for name in cat.names])\n",
    "\n",
    "base_names_1 = []\n",
    "for i in range(10):\n",
    "    cat = Catalogue.from_file(f'E:/new_dset_1/cat_{i:02d}.lat', 0)\n",
    "    print(cat)\n",
    "    base_names_1.extend(['_'.join(name.split('_')[:3]) for name in cat.names])\n",
    "\n",
    "# find set intersection\n",
    "base_names_0 = set(base_names_0)\n",
    "base_names_1 = set(base_names_1)\n",
    "base_names = base_names_0.intersection(base_names_1)\n",
    "print(f'Number of base names: {len(base_names)}')"
   ]
  },
  {
   "cell_type": "code",
   "execution_count": 6,
   "metadata": {},
   "outputs": [
    {
     "name": "stdout",
     "output_type": "stream",
     "text": [
      "Unit cell catalogue with 67238 entries  ->  879\n",
      "Unit cell catalogue with 69793 entries  ->  1791\n",
      "Unit cell catalogue with 69510 entries  ->  2710\n",
      "Unit cell catalogue with 68729 entries  ->  3615\n",
      "Unit cell catalogue with 67450 entries  ->  4515\n",
      "Unit cell catalogue with 68799 entries  ->  5418\n",
      "Unit cell catalogue with 67876 entries  ->  6313\n",
      "Unit cell catalogue with 68799 entries  ->  7216\n",
      "Unit cell catalogue with 69225 entries  ->  8142\n",
      "Unit cell catalogue with 68161 entries  ->  9041\n",
      "Unit cell catalogue with 67238 entries  ->  879\n",
      "Unit cell catalogue with 69367 entries  ->  1791\n",
      "Unit cell catalogue with 70007 entries  ->  2710\n",
      "Unit cell catalogue with 67735 entries  ->  3615\n",
      "Unit cell catalogue with 68231 entries  ->  4515\n",
      "Unit cell catalogue with 68799 entries  ->  5418\n",
      "Unit cell catalogue with 67450 entries  ->  6313\n",
      "Unit cell catalogue with 67592 entries  ->  7216\n",
      "Unit cell catalogue with 70077 entries  ->  8142\n",
      "Unit cell catalogue with 68161 entries  ->  9041\n"
     ]
    }
   ],
   "source": [
    "# load the compliance tensors from both datasets and make sure that they match\n",
    "# for the lattices without imperfections\n",
    "# load only the intersecting base lattices and only zero imperfections\n",
    "cat_0_lines = dict()\n",
    "for i in range(10):\n",
    "    cat = Catalogue.from_file(f'E:/new_dset_0/cat_{i:02d}.lat', 0)\n",
    "    cat_lines = cat.lines\n",
    "    # keep only the base lattices that are in the intersection\n",
    "    cat_lines = {name:line for name, line in cat_lines.items() if ('_'.join(name.split('_')[:3]) in base_names) and (float(name.split('_')[4]) == 0.0)}\n",
    "    cat_0_lines.update(cat_lines)\n",
    "    print(cat, ' -> ', len(cat_0_lines))\n",
    "\n",
    "cat_1_lines = dict()\n",
    "for i in range(10):\n",
    "    cat = Catalogue.from_file(f'E:/new_dset_1/cat_{i:02d}.lat', 0)\n",
    "    cat_lines = cat.lines\n",
    "    # keep only the base lattices that are in the intersection\n",
    "    cat_lines = {name:line for name, line in cat_lines.items() if ('_'.join(name.split('_')[:3]) in base_names) and (float(name.split('_')[4]) == 0.0)}\n",
    "    cat_1_lines.update(cat_lines)\n",
    "    print(cat, ' -> ', len(cat_1_lines))\n"
   ]
  },
  {
   "cell_type": "code",
   "execution_count": 7,
   "metadata": {},
   "outputs": [],
   "source": [
    "# match lattice names to base names in both catalogues\n",
    "bnames_0 = {}\n",
    "for name in cat_0_lines:\n",
    "    bname = '_'.join(name.split('_')[:3])\n",
    "    imp_level = float(name.split('_')[4])\n",
    "    if imp_level==0.0:\n",
    "        bnames_0[bname] = name\n",
    "bnames_1 = {}\n",
    "for name in cat_1_lines:\n",
    "    bname = '_'.join(name.split('_')[:3])\n",
    "    imp_level = float(name.split('_')[4])\n",
    "    if imp_level==0.0:\n",
    "        bnames_1[bname] = name\n",
    "\n",
    "cat_0 = Catalogue(cat_0_lines, 0)\n",
    "cat_1 = Catalogue(cat_1_lines, 0)"
   ]
  },
  {
   "cell_type": "code",
   "execution_count": 39,
   "metadata": {},
   "outputs": [
    {
     "name": "stderr",
     "output_type": "stream",
     "text": [
      "100%|██████████| 9041/9041 [00:15<00:00, 586.38it/s]\n"
     ]
    }
   ],
   "source": [
    "compl_errors = {}\n",
    "stiff_errors = {}\n",
    "for bname in tqdm(base_names):\n",
    "    assert bname in bnames_0, f'{bname} not in bnames_0'\n",
    "    assert bname in bnames_1, f'{bname} not in bnames_1'    \n",
    "    S0 = cat_0[bnames_0[bname]]['compliance_tensors']\n",
    "    S1 = cat_1[bnames_1[bname]]['compliance_tensors']\n",
    "    assert sorted(S0.keys()) == sorted(S1.keys()), f'{bname} has different relative densities'\n",
    "    S0 = np.stack([S0[rel_dens] for rel_dens in sorted(S0.keys())], axis=0)\n",
    "    S1 = np.stack([S1[rel_dens] for rel_dens in sorted(S1.keys())], axis=0)\n",
    "    C0 = np.linalg.inv(S0)\n",
    "    C1 = np.linalg.inv(S1)\n",
    "    error_perc = np.abs(S0-S1)/np.max(S0, axis=(1,2), keepdims=True)*100\n",
    "    compl_errors[bname] = error_perc.mean()\n",
    "    error_perc = np.abs(C0-C1)/np.max(C0, axis=(1,2), keepdims=True)*100\n",
    "    stiff_errors[bname] = error_perc.mean()"
   ]
  },
  {
   "cell_type": "code",
   "execution_count": 40,
   "metadata": {},
   "outputs": [
    {
     "name": "stdout",
     "output_type": "stream",
     "text": [
      "tet_Z04.0_R154\n",
      "5% relative density\n",
      "[[1395.8   -849.71  -484.31     0.994   -1.841   -0.051]\n",
      " [-849.71  1397.6   -484.8      0.829    3.851    1.291]\n",
      " [-484.31  -484.8   1030.1     -0.996    0.48    -0.794]\n",
      " [   0.994    0.829   -0.996 2108.3     -0.336    1.382]\n",
      " [  -1.841    3.851    0.48    -0.336 2114.5      0.98 ]\n",
      " [  -0.051    1.291   -0.794    1.382    0.98  1138.2  ]]\n",
      "[[1394.5   -848.29  -483.86    -0.148   -0.074   -1.724]\n",
      " [-848.29  1393.7   -483.82     1.16     0.159    1.752]\n",
      " [-483.86  -483.82  1029.6     -0.304   -0.215   -0.089]\n",
      " [  -0.148    1.16    -0.304 2106.5     -0.094    0.041]\n",
      " [  -0.074    0.159   -0.215   -0.094 2106.8      0.529]\n",
      " [  -1.724    1.752   -0.089    0.041    0.529 1137.3  ]]\n",
      "0.1% relative density\n",
      "[[ 3342200.   -2110200.   -1232400.      -1965.8       680.82      216.12]\n",
      " [-2110200.    3342500.   -1232500.        926.46    -1801.1       242.6 ]\n",
      " [-1232400.   -1232500.    2474900.        843.69      639.8      -720.31]\n",
      " [   -1965.8       926.46      843.69  4842800.       2977.5     -1720.3 ]\n",
      " [     680.82    -1801.1       639.8      2977.5   4842200.      -1886.5 ]\n",
      " [     216.12      242.6      -720.31    -1720.3     -1886.5   2577500.  ]]\n",
      "[[ 3339900.   -2110500.   -1234100.      -3025.2      4396.8     -3562.3 ]\n",
      " [-2110500.    3346900.   -1232500.       -117.69    -2561.7      2234.2 ]\n",
      " [-1234100.   -1232500.    2476700.       -309.61      512.38     2036.  ]\n",
      " [   -3025.2      -117.69     -309.61  4839200.       2607.4     -1763.3 ]\n",
      " [    4396.8     -2561.7       512.38     2607.4   4849200.      -1628.8 ]\n",
      " [   -3562.3      2234.2      2036.      -1763.3     -1628.8   2582400.  ]]\n"
     ]
    }
   ],
   "source": [
    "with np.printoptions(precision=3, suppress=True):\n",
    "    print(bname)\n",
    "    print('5% relative density')\n",
    "    print(S0[-1])\n",
    "    print(S1[-1])\n",
    "    print('0.1% relative density')\n",
    "    print(S0[0])\n",
    "    print(S1[0])"
   ]
  },
  {
   "cell_type": "code",
   "execution_count": 41,
   "metadata": {},
   "outputs": [
    {
     "name": "stdout",
     "output_type": "stream",
     "text": [
      "tet_Z04.0_R154\n",
      "[[ 3342200.   -2110200.   -1232400.      -1965.8       680.82      216.12]\n",
      " [-2110200.    3342500.   -1232500.        926.46    -1801.1       242.6 ]\n",
      " [-1232400.   -1232500.    2474900.        843.69      639.8      -720.31]\n",
      " [   -1965.8       926.46      843.69  4842800.       2977.5     -1720.3 ]\n",
      " [     680.82    -1801.1       639.8      2977.5   4842200.      -1886.5 ]\n",
      " [     216.12      242.6      -720.31    -1720.3     -1886.5   2577500.  ]]\n",
      "[[ 3339900.   -2110500.   -1234100.      -3025.2      4396.8     -3562.3 ]\n",
      " [-2110500.    3346900.   -1232500.       -117.69    -2561.7      2234.2 ]\n",
      " [-1234100.   -1232500.    2476700.       -309.61      512.38     2036.  ]\n",
      " [   -3025.2      -117.69     -309.61  4839200.       2607.4     -1763.3 ]\n",
      " [    4396.8     -2561.7       512.38     2607.4   4849200.      -1628.8 ]\n",
      " [   -3562.3      2234.2      2036.      -1763.3     -1628.8   2582400.  ]]\n",
      "[[1.358 1.202 1.271 0.068 0.059 0.037]\n",
      " [1.202 1.046 1.116 0.068 0.059 0.037]\n",
      " [1.271 1.116 1.185 0.068 0.059 0.037]\n",
      " [0.068 0.068 0.068 0.    0.    0.   ]\n",
      " [0.059 0.059 0.059 0.    0.    0.   ]\n",
      " [0.037 0.037 0.037 0.    0.    0.001]]\n"
     ]
    }
   ],
   "source": [
    "with np.printoptions(precision=3, suppress=True):\n",
    "    print(bname)\n",
    "    print(S0[0])\n",
    "    print(S1[0])\n",
    "    print(error_perc[0])"
   ]
  },
  {
   "cell_type": "code",
   "execution_count": 11,
   "metadata": {},
   "outputs": [],
   "source": [
    "import seaborn as sns\n",
    "import matplotlib.pyplot as plt\n",
    "import pandas as pd"
   ]
  },
  {
   "cell_type": "code",
   "execution_count": 12,
   "metadata": {},
   "outputs": [
    {
     "data": {
      "image/png": "[encoded data removed]",
      "text/plain": [
       "<Figure size 640x480 with 1 Axes>"
      ]
     },
     "metadata": {},
     "output_type": "display_data"
    }
   ],
   "source": [
    "sns.scatterplot(x=compl_errors.values(), y=stiff_errors.values())\n",
    "plt.xscale('log')\n",
    "plt.yscale('log')\n",
    "# somewhat, not super strong"
   ]
  },
  {
   "cell_type": "code",
   "execution_count": null,
   "metadata": {},
   "outputs": [],
   "source": [
    "df = pd.DataFrame({'Compliance error': compl_errors.values(), 'Stiffness error': stiff_errors.values()}).melt()\n",
    "sns.histplot(data=df, x='value', hue='variable', log_scale=True)\n",
    "plt.show()"
   ]
  },
  {
   "cell_type": "code",
   "execution_count": null,
   "metadata": {},
   "outputs": [],
   "source": [
    "sns.ecdfplot(data=df, x='value', hue='variable', log_scale=True)\n",
    "plt.xlim(1e-3, 1e1)\n",
    "plt.show()"
   ]
  },
  {
   "cell_type": "code",
   "execution_count": null,
   "metadata": {},
   "outputs": [],
   "source": [
    "sorted_errors = sorted(compl_errors.items(), key=lambda x: x[1])\n",
    "compl_names = [bname for bname, error in sorted_errors[:8200]]\n",
    "sorted_errors = sorted(stiff_errors.items(), key=lambda x: x[1])\n",
    "stiff_names = [bname for bname, error in sorted_errors[:8200]]\n",
    "best_base_names = set(compl_names).intersection(stiff_names)\n",
    "len(best_base_names)"
   ]
  },
  {
   "cell_type": "code",
   "execution_count": null,
   "metadata": {},
   "outputs": [],
   "source": [
    "best_base_names = list(best_base_names)\n",
    "# sort by lattice code\n",
    "best_base_names.sort(key=lambda x: int(x.split('_')[2].lstrip('ER')))\n",
    "with open('E:/best_base_names.txt', 'w') as fout:\n",
    "    fout.write('\\n'.join(best_base_names))"
   ]
  }
 ],
 "metadata": {
  "kernelspec": {
   "display_name": "GLAMMenv",
   "language": "python",
   "name": "python3"
  },
  "language_info": {
   "codemirror_mode": {
    "name": "ipython",
    "version": 3
   },
   "file_extension": ".py",
   "mimetype": "text/x-python",
   "name": "python",
   "nbconvert_exporter": "python",
   "pygments_lexer": "ipython3",
   "version": "3.9.12"
  },
  "orig_nbformat": 4
 },
 "nbformat": 4,
 "nbformat_minor": 2
}
