{
 "cells": [
  {
   "cell_type": "code",
   "execution_count": 52,
   "metadata": {},
   "outputs": [],
   "source": [
    "from argparse import Namespace\n",
    "\n",
    "import numpy as np\n",
    "import pandas as pd\n",
    "import torch\n",
    "import seaborn as sns\n",
    "from tqdm import tqdm\n",
    "import matplotlib.pyplot as plt\n",
    "from e3nn import o3\n",
    "from e3nn.io import CartesianTensor\n",
    "from torch_geometric.data import Data\n",
    "import plotly.express as px\n",
    "\n",
    "from data import GLAMM_rhotens_Dataset as GLAMM_Dataset\n",
    "from data import elasticity_func"
   ]
  },
  {
   "cell_type": "code",
   "execution_count": 2,
   "metadata": {},
   "outputs": [
    {
     "name": "stderr",
     "output_type": "stream",
     "text": [
      "Processing...\n"
     ]
    },
    {
     "name": "stdout",
     "output_type": "stream",
     "text": [
      "Processing catalogue train.lat. Number of lattices 7000 x 10 = 70000, Representation fund_inner. Nodal features: ones. Edge features: r. Graph feature format cartesian_4.\n"
     ]
    },
    {
     "name": "stderr",
     "output_type": "stream",
     "text": [
      "100%|██████████| 7000/7000 [00:24<00:00, 288.90it/s]\n",
      "Done!\n"
     ]
    }
   ],
   "source": [
    "dataset = GLAMM_Dataset(\n",
    "    root='C:/temp/gnn-paper-data/GLAMMDset',\n",
    "    catalogue_path='C:/temp/gnn-paper-data/train.lat',\n",
    "    dset_fname='train.pt',\n",
    "    n_reldens=10,\n",
    "    graph_ft_format='cartesian_4'\n",
    ")"
   ]
  },
  {
   "cell_type": "code",
   "execution_count": 3,
   "metadata": {},
   "outputs": [],
   "source": [
    "def stiffness_cart_4_to_Voigt(C: torch.Tensor) -> torch.Tensor:\n",
    "    C_2 = torch.zeros((C.size(0),6,6), device=C.device)\n",
    "    for i in range(6):\n",
    "        if i<3:\n",
    "            a = b = i\n",
    "        elif i==3:\n",
    "            a = 1; b = 2\n",
    "        elif i==4:\n",
    "            a = 0; b = 2\n",
    "        else:\n",
    "            a = 0; b = 1\n",
    "        for j in range(i,6):\n",
    "            if j<3:\n",
    "                c = d = j\n",
    "            elif j==3:\n",
    "                c = 1; d = 2\n",
    "            elif j==4:\n",
    "                c = 0; d = 2\n",
    "            else:\n",
    "                c = 0; d = 1\n",
    "            Cij = C[:,a,b,c,d] \n",
    "            C_2[:,i,j] = Cij \n",
    "            C_2[:,j,i] = Cij\n",
    "    return C_2"
   ]
  },
  {
   "cell_type": "code",
   "execution_count": 4,
   "metadata": {},
   "outputs": [
    {
     "name": "stderr",
     "output_type": "stream",
     "text": [
      "100%|██████████| 7000/7000 [01:40<00:00, 69.38it/s]\n"
     ]
    },
    {
     "data": {
      "text/html": [
       "<div>\n",
       "<style scoped>\n",
       "    .dataframe tbody tr th:only-of-type {\n",
       "        vertical-align: middle;\n",
       "    }\n",
       "\n",
       "    .dataframe tbody tr th {\n",
       "        vertical-align: top;\n",
       "    }\n",
       "\n",
       "    .dataframe thead th {\n",
       "        text-align: right;\n",
       "    }\n",
       "</style>\n",
       "<table border=\"1\" class=\"dataframe\">\n",
       "  <thead>\n",
       "    <tr style=\"text-align: right;\">\n",
       "      <th></th>\n",
       "      <th>std</th>\n",
       "      <th>spread</th>\n",
       "      <th>i</th>\n",
       "      <th>name</th>\n",
       "    </tr>\n",
       "  </thead>\n",
       "  <tbody>\n",
       "    <tr>\n",
       "      <th>0</th>\n",
       "      <td>0.000385</td>\n",
       "      <td>0.000385</td>\n",
       "      <td>0</td>\n",
       "      <td>ort_Z05.5_E369_p_0.02_-1599426334144357192</td>\n",
       "    </tr>\n",
       "    <tr>\n",
       "      <th>1</th>\n",
       "      <td>3.077880</td>\n",
       "      <td>3.077880</td>\n",
       "      <td>1</td>\n",
       "      <td>ort_Z05.5_E369_p_0.02_-1599426334144357192</td>\n",
       "    </tr>\n",
       "    <tr>\n",
       "      <th>2</th>\n",
       "      <td>32.695526</td>\n",
       "      <td>32.695503</td>\n",
       "      <td>2</td>\n",
       "      <td>ort_Z05.5_E369_p_0.02_-1599426334144357192</td>\n",
       "    </tr>\n",
       "    <tr>\n",
       "      <th>3</th>\n",
       "      <td>2.429495</td>\n",
       "      <td>2.429495</td>\n",
       "      <td>3</td>\n",
       "      <td>ort_Z05.5_E369_p_0.02_-1599426334144357192</td>\n",
       "    </tr>\n",
       "    <tr>\n",
       "      <th>4</th>\n",
       "      <td>2.098046</td>\n",
       "      <td>2.098046</td>\n",
       "      <td>4</td>\n",
       "      <td>ort_Z05.5_E369_p_0.02_-1599426334144357192</td>\n",
       "    </tr>\n",
       "    <tr>\n",
       "      <th>...</th>\n",
       "      <td>...</td>\n",
       "      <td>...</td>\n",
       "      <td>...</td>\n",
       "      <td>...</td>\n",
       "    </tr>\n",
       "    <tr>\n",
       "      <th>146995</th>\n",
       "      <td>0.035163</td>\n",
       "      <td>0.035163</td>\n",
       "      <td>16</td>\n",
       "      <td>tet_Z08.0_E246_p_0.02_8649695761524661304</td>\n",
       "    </tr>\n",
       "    <tr>\n",
       "      <th>146996</th>\n",
       "      <td>0.009438</td>\n",
       "      <td>0.009438</td>\n",
       "      <td>17</td>\n",
       "      <td>tet_Z08.0_E246_p_0.02_8649695761524661304</td>\n",
       "    </tr>\n",
       "    <tr>\n",
       "      <th>146997</th>\n",
       "      <td>0.002252</td>\n",
       "      <td>0.002252</td>\n",
       "      <td>18</td>\n",
       "      <td>tet_Z08.0_E246_p_0.02_8649695761524661304</td>\n",
       "    </tr>\n",
       "    <tr>\n",
       "      <th>146998</th>\n",
       "      <td>0.001175</td>\n",
       "      <td>0.001175</td>\n",
       "      <td>19</td>\n",
       "      <td>tet_Z08.0_E246_p_0.02_8649695761524661304</td>\n",
       "    </tr>\n",
       "    <tr>\n",
       "      <th>146999</th>\n",
       "      <td>0.596137</td>\n",
       "      <td>0.596137</td>\n",
       "      <td>20</td>\n",
       "      <td>tet_Z08.0_E246_p_0.02_8649695761524661304</td>\n",
       "    </tr>\n",
       "  </tbody>\n",
       "</table>\n",
       "<p>147000 rows × 4 columns</p>\n",
       "</div>"
      ],
      "text/plain": [
       "              std     spread   i                                        name\n",
       "0        0.000385   0.000385   0  ort_Z05.5_E369_p_0.02_-1599426334144357192\n",
       "1        3.077880   3.077880   1  ort_Z05.5_E369_p_0.02_-1599426334144357192\n",
       "2       32.695526  32.695503   2  ort_Z05.5_E369_p_0.02_-1599426334144357192\n",
       "3        2.429495   2.429495   3  ort_Z05.5_E369_p_0.02_-1599426334144357192\n",
       "4        2.098046   2.098046   4  ort_Z05.5_E369_p_0.02_-1599426334144357192\n",
       "...           ...        ...  ..                                         ...\n",
       "146995   0.035163   0.035163  16   tet_Z08.0_E246_p_0.02_8649695761524661304\n",
       "146996   0.009438   0.009438  17   tet_Z08.0_E246_p_0.02_8649695761524661304\n",
       "146997   0.002252   0.002252  18   tet_Z08.0_E246_p_0.02_8649695761524661304\n",
       "146998   0.001175   0.001175  19   tet_Z08.0_E246_p_0.02_8649695761524661304\n",
       "146999   0.596137   0.596137  20   tet_Z08.0_E246_p_0.02_8649695761524661304\n",
       "\n",
       "[147000 rows x 4 columns]"
      ]
     },
     "execution_count": 4,
     "metadata": {},
     "output_type": "execute_result"
    }
   ],
   "source": [
    "names = list(set(dataset.data.name))\n",
    "# name = np.random.choice(dataset.data.name)\n",
    "dfs = []\n",
    "for name in tqdm(names):\n",
    "    inds = np.flatnonzero(np.in1d(dataset.data.name, [name]))\n",
    "    stiffness = dataset.data.stiffness[inds]\n",
    "    stiffness = stiffness_cart_4_to_Voigt(stiffness)\n",
    "    norm_stiffness = stiffness/dataset.data.rel_dens[inds].view(-1,1,1)\n",
    "    rows, cols = np.triu_indices(6)\n",
    "    el_constants = norm_stiffness[:, rows, cols]\n",
    "    el_constants = el_constants / el_constants.mean(dim=0)\n",
    "    std, mean = torch.std_mean(el_constants, dim=0)\n",
    "    df = pd.DataFrame({'std':std.numpy(), 'spread':(std/mean).numpy(), 'i':np.arange(21), 'name':name})\n",
    "    dfs.append(df)\n",
    "df = pd.concat(dfs, axis=0, ignore_index=True)\n",
    "df"
   ]
  },
  {
   "cell_type": "code",
   "execution_count": 5,
   "metadata": {},
   "outputs": [
    {
     "data": {
      "image/png": "[encoded data removed]",
      "text/plain": [
       "<Figure size 640x480 with 1 Axes>"
      ]
     },
     "metadata": {},
     "output_type": "display_data"
    }
   ],
   "source": [
    "df_stat = df.groupby(by='i').mean()\n",
    "df_stat.loc[:,'i'] = df_stat.index\n",
    "sns.barplot(data=df_stat, x='i', y='spread')\n",
    "plt.show()"
   ]
  },
  {
   "cell_type": "markdown",
   "metadata": {},
   "source": [
    "# GNN output"
   ]
  },
  {
   "cell_type": "code",
   "execution_count": 11,
   "metadata": {},
   "outputs": [],
   "source": [
    "from torch_geometric.loader import DataLoader\n",
    "import pytorch_lightning as pl\n",
    "\n",
    "from gnn.models import LatticeGNN"
   ]
  },
  {
   "cell_type": "code",
   "execution_count": 8,
   "metadata": {},
   "outputs": [],
   "source": [
    "params = Namespace(\n",
    "    r_max=3, num_bessel=8, poly_cutoff=4, # Radial bessel embedding\n",
    "    lmax=3, # spherical harmonics\n",
    "    hidden_irreps='32x0e+32x1o+32x2e',\n",
    "    readout_irreps='32x0e+32x1o+32x2e',\n",
    "    interaction_reduction='mean',\n",
    "    correlation=3,\n",
    "    global_reduction='sum',\n",
    "    message_passes=3,\n",
    "    lr=0.001,\n",
    ")\n",
    "model = LatticeGNN(params).load_from_checkpoint('./gnn-paper-v0/1jtr2iy8/checkpoints/epoch=19-step=22400.ckpt')"
   ]
  },
  {
   "cell_type": "code",
   "execution_count": 10,
   "metadata": {},
   "outputs": [
    {
     "name": "stderr",
     "output_type": "stream",
     "text": [
      "GPU available: True (cuda), used: True\n",
      "TPU available: False, using: 0 TPU cores\n",
      "IPU available: False, using: 0 IPUs\n",
      "HPU available: False, using: 0 HPUs\n"
     ]
    }
   ],
   "source": [
    "trainer = pl.Trainer(\n",
    "    accelerator='auto',\n",
    ")"
   ]
  },
  {
   "cell_type": "code",
   "execution_count": 14,
   "metadata": {},
   "outputs": [],
   "source": [
    "val_dset = GLAMM_Dataset(\n",
    "    root='C:/temp/gnn-paper-data/GLAMMDset',\n",
    "    catalogue_path='C:/temp/gnn-paper-data/train.lat',\n",
    "    dset_fname='train.pt',\n",
    "    n_reldens=10,\n",
    "    graph_ft_format='cartesian_4'\n",
    ")\n",
    "el_tens = CartesianTensor('ijkl=jikl=ijlk=klij')\n",
    "val_dset.data.stiffness = val_dset.data.stiffness / val_dset.data.rel_dens.view(-1,1,1,1,1)\n",
    "normalization_factor = 3.3083\n",
    "val_dset.data.stiffness = el_tens.from_cartesian(val_dset.data.stiffness*normalization_factor).float()\n",
    "\n",
    "val_loader = DataLoader(\n",
    "    dataset=val_dset,\n",
    "    batch_size=100,\n",
    "    shuffle=False,\n",
    "    num_workers=4\n",
    ")\n",
    "val_dataloader = DataLoader(\n",
    "    val_dset,\n",
    "    batch_size=100,\n",
    "    shuffle=False,\n",
    "    num_workers=2\n",
    ")"
   ]
  },
  {
   "cell_type": "code",
   "execution_count": 15,
   "metadata": {},
   "outputs": [
    {
     "name": "stderr",
     "output_type": "stream",
     "text": [
      "LOCAL_RANK: 0 - CUDA_VISIBLE_DEVICES: [0]\n",
      "c:\\ProgramData\\Anaconda3\\envs\\GLAMMenv\\lib\\site-packages\\pytorch_lightning\\trainer\\connectors\\data_connector.py:225: PossibleUserWarning: The dataloader, predict_dataloader 0, does not have many workers which may be a bottleneck. Consider increasing the value of the `num_workers` argument` (try 16 which is the number of cpus on this machine) in the `DataLoader` init to improve performance.\n",
      "  rank_zero_warn(\n"
     ]
    },
    {
     "data": {
      "application/vnd.jupyter.widget-view+json": {
       "model_id": "9f1217810684458c85dde1720c436093",
       "version_major": 2,
       "version_minor": 0
      },
      "text/plain": [
       "Predicting: 0it [00:00, ?it/s]"
      ]
     },
     "metadata": {},
     "output_type": "display_data"
    }
   ],
   "source": [
    "results = trainer.predict(model, dataloaders=val_dataloader)"
   ]
  },
  {
   "cell_type": "code",
   "execution_count": 32,
   "metadata": {},
   "outputs": [],
   "source": [
    "predictions = el_tens.to_cartesian(torch.cat([res[0]['stiffness'] for res in results], dim=0))\n",
    "true = el_tens.to_cartesian(torch.cat([res[1]['stiffness'] for res in results], dim=0))\n",
    "dset_names = np.concatenate([res[1]['name'] for res in results])"
   ]
  },
  {
   "cell_type": "code",
   "execution_count": 39,
   "metadata": {},
   "outputs": [
    {
     "name": "stderr",
     "output_type": "stream",
     "text": [
      "100%|██████████| 7000/7000 [00:13<00:00, 530.61it/s]\n"
     ]
    },
    {
     "data": {
      "text/html": [
       "<div>\n",
       "<style scoped>\n",
       "    .dataframe tbody tr th:only-of-type {\n",
       "        vertical-align: middle;\n",
       "    }\n",
       "\n",
       "    .dataframe tbody tr th {\n",
       "        vertical-align: top;\n",
       "    }\n",
       "\n",
       "    .dataframe thead th {\n",
       "        text-align: right;\n",
       "    }\n",
       "</style>\n",
       "<table border=\"1\" class=\"dataframe\">\n",
       "  <thead>\n",
       "    <tr style=\"text-align: right;\">\n",
       "      <th></th>\n",
       "      <th>std</th>\n",
       "      <th>spread</th>\n",
       "      <th>i</th>\n",
       "      <th>name</th>\n",
       "      <th>class</th>\n",
       "    </tr>\n",
       "  </thead>\n",
       "  <tbody>\n",
       "    <tr>\n",
       "      <th>0</th>\n",
       "      <td>0.059591</td>\n",
       "      <td>0.059591</td>\n",
       "      <td>0</td>\n",
       "      <td>cub_Z04.0_E35_p_0.01_-1470071354500814692</td>\n",
       "      <td>pred</td>\n",
       "    </tr>\n",
       "    <tr>\n",
       "      <th>1</th>\n",
       "      <td>0.041876</td>\n",
       "      <td>0.041876</td>\n",
       "      <td>1</td>\n",
       "      <td>cub_Z04.0_E35_p_0.01_-1470071354500814692</td>\n",
       "      <td>pred</td>\n",
       "    </tr>\n",
       "    <tr>\n",
       "      <th>2</th>\n",
       "      <td>0.047670</td>\n",
       "      <td>0.047670</td>\n",
       "      <td>2</td>\n",
       "      <td>cub_Z04.0_E35_p_0.01_-1470071354500814692</td>\n",
       "      <td>pred</td>\n",
       "    </tr>\n",
       "    <tr>\n",
       "      <th>3</th>\n",
       "      <td>0.052202</td>\n",
       "      <td>0.052202</td>\n",
       "      <td>3</td>\n",
       "      <td>cub_Z04.0_E35_p_0.01_-1470071354500814692</td>\n",
       "      <td>pred</td>\n",
       "    </tr>\n",
       "    <tr>\n",
       "      <th>4</th>\n",
       "      <td>0.244737</td>\n",
       "      <td>0.244737</td>\n",
       "      <td>4</td>\n",
       "      <td>cub_Z04.0_E35_p_0.01_-1470071354500814692</td>\n",
       "      <td>pred</td>\n",
       "    </tr>\n",
       "    <tr>\n",
       "      <th>...</th>\n",
       "      <td>...</td>\n",
       "      <td>...</td>\n",
       "      <td>...</td>\n",
       "      <td>...</td>\n",
       "      <td>...</td>\n",
       "    </tr>\n",
       "    <tr>\n",
       "      <th>293995</th>\n",
       "      <td>0.406691</td>\n",
       "      <td>0.406691</td>\n",
       "      <td>16</td>\n",
       "      <td>trig_Z14.0_E36_p_0.02_8315360267725377530</td>\n",
       "      <td>true</td>\n",
       "    </tr>\n",
       "    <tr>\n",
       "      <th>293996</th>\n",
       "      <td>0.878466</td>\n",
       "      <td>0.878466</td>\n",
       "      <td>17</td>\n",
       "      <td>trig_Z14.0_E36_p_0.02_8315360267725377530</td>\n",
       "      <td>true</td>\n",
       "    </tr>\n",
       "    <tr>\n",
       "      <th>293997</th>\n",
       "      <td>0.002212</td>\n",
       "      <td>0.002212</td>\n",
       "      <td>18</td>\n",
       "      <td>trig_Z14.0_E36_p_0.02_8315360267725377530</td>\n",
       "      <td>true</td>\n",
       "    </tr>\n",
       "    <tr>\n",
       "      <th>293998</th>\n",
       "      <td>0.000902</td>\n",
       "      <td>0.000902</td>\n",
       "      <td>19</td>\n",
       "      <td>trig_Z14.0_E36_p_0.02_8315360267725377530</td>\n",
       "      <td>true</td>\n",
       "    </tr>\n",
       "    <tr>\n",
       "      <th>293999</th>\n",
       "      <td>0.001700</td>\n",
       "      <td>0.001700</td>\n",
       "      <td>20</td>\n",
       "      <td>trig_Z14.0_E36_p_0.02_8315360267725377530</td>\n",
       "      <td>true</td>\n",
       "    </tr>\n",
       "  </tbody>\n",
       "</table>\n",
       "<p>294000 rows × 5 columns</p>\n",
       "</div>"
      ],
      "text/plain": [
       "             std    spread   i                                       name  \\\n",
       "0       0.059591  0.059591   0  cub_Z04.0_E35_p_0.01_-1470071354500814692   \n",
       "1       0.041876  0.041876   1  cub_Z04.0_E35_p_0.01_-1470071354500814692   \n",
       "2       0.047670  0.047670   2  cub_Z04.0_E35_p_0.01_-1470071354500814692   \n",
       "3       0.052202  0.052202   3  cub_Z04.0_E35_p_0.01_-1470071354500814692   \n",
       "4       0.244737  0.244737   4  cub_Z04.0_E35_p_0.01_-1470071354500814692   \n",
       "...          ...       ...  ..                                        ...   \n",
       "293995  0.406691  0.406691  16  trig_Z14.0_E36_p_0.02_8315360267725377530   \n",
       "293996  0.878466  0.878466  17  trig_Z14.0_E36_p_0.02_8315360267725377530   \n",
       "293997  0.002212  0.002212  18  trig_Z14.0_E36_p_0.02_8315360267725377530   \n",
       "293998  0.000902  0.000902  19  trig_Z14.0_E36_p_0.02_8315360267725377530   \n",
       "293999  0.001700  0.001700  20  trig_Z14.0_E36_p_0.02_8315360267725377530   \n",
       "\n",
       "       class  \n",
       "0       pred  \n",
       "1       pred  \n",
       "2       pred  \n",
       "3       pred  \n",
       "4       pred  \n",
       "...      ...  \n",
       "293995  true  \n",
       "293996  true  \n",
       "293997  true  \n",
       "293998  true  \n",
       "293999  true  \n",
       "\n",
       "[294000 rows x 5 columns]"
      ]
     },
     "execution_count": 39,
     "metadata": {},
     "output_type": "execute_result"
    }
   ],
   "source": [
    "rows, cols = np.triu_indices(6)\n",
    "names = np.unique(dset_names)\n",
    "dfs = []\n",
    "for name in tqdm(names):\n",
    "    inds = np.flatnonzero(dset_names==name)\n",
    "    norm_stiffness = predictions[inds]\n",
    "    norm_stiffness = stiffness_cart_4_to_Voigt(norm_stiffness)\n",
    "    el_constants = norm_stiffness[:, rows, cols]\n",
    "    el_constants = el_constants / el_constants.mean(dim=0)\n",
    "    std, mean = torch.std_mean(el_constants, dim=0)\n",
    "    dfs.append(pd.DataFrame({'std':std.numpy(), 'spread':(std/mean).numpy(), 'i':np.arange(21), 'name':name, 'class':'pred'}))\n",
    "    norm_stiffness = true[inds]\n",
    "    norm_stiffness = stiffness_cart_4_to_Voigt(norm_stiffness)\n",
    "    el_constants = norm_stiffness[:, rows, cols]\n",
    "    el_constants = el_constants / el_constants.mean(dim=0)\n",
    "    std, mean = torch.std_mean(el_constants, dim=0)\n",
    "    dfs.append(pd.DataFrame({'std':std.numpy(), 'spread':(std/mean).numpy(), 'i':np.arange(21), 'name':name, 'class':'true'}))\n",
    "df = pd.concat(dfs, axis=0, ignore_index=True)\n",
    "df"
   ]
  },
  {
   "cell_type": "code",
   "execution_count": 59,
   "metadata": {},
   "outputs": [
    {
     "data": {
      "application/vnd.plotly.v1+json": {
       "config": {
        "plotlyServerURL": "https://plot.ly"
       },
       "data": [
        {
         "alignmentgroup": "True",
         "hovertemplate": "class=pred<br>i=%{x}<br>spread=%{y}<extra></extra>",
         "legendgroup": "pred",
         "marker": {
          "color": "#636efa",
          "pattern": {
           "shape": ""
          }
         },
         "name": "pred",
         "offsetgroup": "pred",
         "orientation": "v",
         "showlegend": true,
         "textposition": "auto",
         "type": "bar",
         "x": [
          0,
          1,
          2,
          3,
          4,
          5,
          6,
          7,
          8,
          9,
          10,
          11,
          12,
          13,
          14,
          15,
          16,
          17,
          18,
          19,
          20
         ],
         "xaxis": "x",
         "y": [
          0.020942501723766327,
          0.44260457158088684,
          0.24461708962917328,
          0.26633718609809875,
          0.19248156249523163,
          10.724285125732422,
          0.022338535636663437,
          0.35499003529548645,
          0.1384945660829544,
          0.17153553664684296,
          0.23723867535591125,
          0.021472882479429245,
          0.17157088220119476,
          0.5795255899429321,
          0.17413917183876038,
          0.5880194902420044,
          1.0252057313919067,
          0.20131775736808777,
          0.6307017207145691,
          0.16725948452949524,
          0.4374547600746155
         ],
         "yaxis": "y"
        },
        {
         "alignmentgroup": "True",
         "hovertemplate": "class=true<br>i=%{x}<br>spread=%{y}<extra></extra>",
         "legendgroup": "true",
         "marker": {
          "color": "#EF553B",
          "pattern": {
           "shape": ""
          }
         },
         "name": "true",
         "offsetgroup": "true",
         "orientation": "v",
         "showlegend": true,
         "textposition": "auto",
         "type": "bar",
         "x": [
          0,
          1,
          2,
          3,
          4,
          5,
          6,
          7,
          8,
          9,
          10,
          11,
          12,
          13,
          14,
          15,
          16,
          17,
          18,
          19,
          20
         ],
         "xaxis": "x",
         "y": [
          0.038834113627672195,
          1.6722716093063354,
          1.3402165174484253,
          0.413906455039978,
          1.0473774671554565,
          0.798282265663147,
          0.05231240764260292,
          1.837507963180542,
          0.5019598603248596,
          0.8624237179756165,
          0.9168651700019836,
          0.04602976143360138,
          0.6951180100440979,
          1.161895513534546,
          0.4636608064174652,
          0.49037104845046997,
          0.9619063138961792,
          1.0289349555969238,
          0.4631679654121399,
          0.7919940948486328,
          0.41546133160591125
         ],
         "yaxis": "y"
        }
       ],
       "layout": {
        "barmode": "group",
        "legend": {
         "title": {
          "text": "class"
         },
         "tracegroupgap": 0
        },
        "margin": {
         "t": 60
        },
        "template": {
         "data": {
          "bar": [
           {
            "error_x": {
             "color": "#2a3f5f"
            },
            "error_y": {
             "color": "#2a3f5f"
            },
            "marker": {
             "line": {
              "color": "#E5ECF6",
              "width": 0.5
             },
             "pattern": {
              "fillmode": "overlay",
              "size": 10,
              "solidity": 0.2
             }
            },
            "type": "bar"
           }
          ],
          "barpolar": [
           {
            "marker": {
             "line": {
              "color": "#E5ECF6",
              "width": 0.5
             },
             "pattern": {
              "fillmode": "overlay",
              "size": 10,
              "solidity": 0.2
             }
            },
            "type": "barpolar"
           }
          ],
          "carpet": [
           {
            "aaxis": {
             "endlinecolor": "#2a3f5f",
             "gridcolor": "white",
             "linecolor": "white",
             "minorgridcolor": "white",
             "startlinecolor": "#2a3f5f"
            },
            "baxis": {
             "endlinecolor": "#2a3f5f",
             "gridcolor": "white",
             "linecolor": "white",
             "minorgridcolor": "white",
             "startlinecolor": "#2a3f5f"
            },
            "type": "carpet"
           }
          ],
          "choropleth": [
           {
            "colorbar": {
             "outlinewidth": 0,
             "ticks": ""
            },
            "type": "choropleth"
           }
          ],
          "contour": [
           {
            "colorbar": {
             "outlinewidth": 0,
             "ticks": ""
            },
            "colorscale": [
             [
              0,
              "#0d0887"
             ],
             [
              0.1111111111111111,
              "#46039f"
             ],
             [
              0.2222222222222222,
              "#7201a8"
             ],
             [
              0.3333333333333333,
              "#9c179e"
             ],
             [
              0.4444444444444444,
              "#bd3786"
             ],
             [
              0.5555555555555556,
              "#d8576b"
             ],
             [
              0.6666666666666666,
              "#ed7953"
             ],
             [
              0.7777777777777778,
              "#fb9f3a"
             ],
             [
              0.8888888888888888,
              "#fdca26"
             ],
             [
              1,
              "#f0f921"
             ]
            ],
            "type": "contour"
           }
          ],
          "contourcarpet": [
           {
            "colorbar": {
             "outlinewidth": 0,
             "ticks": ""
            },
            "type": "contourcarpet"
           }
          ],
          "heatmap": [
           {
            "colorbar": {
             "outlinewidth": 0,
             "ticks": ""
            },
            "colorscale": [
             [
              0,
              "#0d0887"
             ],
             [
              0.1111111111111111,
              "#46039f"
             ],
             [
              0.2222222222222222,
              "#7201a8"
             ],
             [
              0.3333333333333333,
              "#9c179e"
             ],
             [
              0.4444444444444444,
              "#bd3786"
             ],
             [
              0.5555555555555556,
              "#d8576b"
             ],
             [
              0.6666666666666666,
              "#ed7953"
             ],
             [
              0.7777777777777778,
              "#fb9f3a"
             ],
             [
              0.8888888888888888,
              "#fdca26"
             ],
             [
              1,
              "#f0f921"
             ]
            ],
            "type": "heatmap"
           }
          ],
          "heatmapgl": [
           {
            "colorbar": {
             "outlinewidth": 0,
             "ticks": ""
            },
            "colorscale": [
             [
              0,
              "#0d0887"
             ],
             [
              0.1111111111111111,
              "#46039f"
             ],
             [
              0.2222222222222222,
              "#7201a8"
             ],
             [
              0.3333333333333333,
              "#9c179e"
             ],
             [
              0.4444444444444444,
              "#bd3786"
             ],
             [
              0.5555555555555556,
              "#d8576b"
             ],
             [
              0.6666666666666666,
              "#ed7953"
             ],
             [
              0.7777777777777778,
              "#fb9f3a"
             ],
             [
              0.8888888888888888,
              "#fdca26"
             ],
             [
              1,
              "#f0f921"
             ]
            ],
            "type": "heatmapgl"
           }
          ],
          "histogram": [
           {
            "marker": {
             "pattern": {
              "fillmode": "overlay",
              "size": 10,
              "solidity": 0.2
             }
            },
            "type": "histogram"
           }
          ],
          "histogram2d": [
           {
            "colorbar": {
             "outlinewidth": 0,
             "ticks": ""
            },
            "colorscale": [
             [
              0,
              "#0d0887"
             ],
             [
              0.1111111111111111,
              "#46039f"
             ],
             [
              0.2222222222222222,
              "#7201a8"
             ],
             [
              0.3333333333333333,
              "#9c179e"
             ],
             [
              0.4444444444444444,
              "#bd3786"
             ],
             [
              0.5555555555555556,
              "#d8576b"
             ],
             [
              0.6666666666666666,
              "#ed7953"
             ],
             [
              0.7777777777777778,
              "#fb9f3a"
             ],
             [
              0.8888888888888888,
              "#fdca26"
             ],
             [
              1,
              "#f0f921"
             ]
            ],
            "type": "histogram2d"
           }
          ],
          "histogram2dcontour": [
           {
            "colorbar": {
             "outlinewidth": 0,
             "ticks": ""
            },
            "colorscale": [
             [
              0,
              "#0d0887"
             ],
             [
              0.1111111111111111,
              "#46039f"
             ],
             [
              0.2222222222222222,
              "#7201a8"
             ],
             [
              0.3333333333333333,
              "#9c179e"
             ],
             [
              0.4444444444444444,
              "#bd3786"
             ],
             [
              0.5555555555555556,
              "#d8576b"
             ],
             [
              0.6666666666666666,
              "#ed7953"
             ],
             [
              0.7777777777777778,
              "#fb9f3a"
             ],
             [
              0.8888888888888888,
              "#fdca26"
             ],
             [
              1,
              "#f0f921"
             ]
            ],
            "type": "histogram2dcontour"
           }
          ],
          "mesh3d": [
           {
            "colorbar": {
             "outlinewidth": 0,
             "ticks": ""
            },
            "type": "mesh3d"
           }
          ],
          "parcoords": [
           {
            "line": {
             "colorbar": {
              "outlinewidth": 0,
              "ticks": ""
             }
            },
            "type": "parcoords"
           }
          ],
          "pie": [
           {
            "automargin": true,
            "type": "pie"
           }
          ],
          "scatter": [
           {
            "fillpattern": {
             "fillmode": "overlay",
             "size": 10,
             "solidity": 0.2
            },
            "type": "scatter"
           }
          ],
          "scatter3d": [
           {
            "line": {
             "colorbar": {
              "outlinewidth": 0,
              "ticks": ""
             }
            },
            "marker": {
             "colorbar": {
              "outlinewidth": 0,
              "ticks": ""
             }
            },
            "type": "scatter3d"
           }
          ],
          "scattercarpet": [
           {
            "marker": {
             "colorbar": {
              "outlinewidth": 0,
              "ticks": ""
             }
            },
            "type": "scattercarpet"
           }
          ],
          "scattergeo": [
           {
            "marker": {
             "colorbar": {
              "outlinewidth": 0,
              "ticks": ""
             }
            },
            "type": "scattergeo"
           }
          ],
          "scattergl": [
           {
            "marker": {
             "colorbar": {
              "outlinewidth": 0,
              "ticks": ""
             }
            },
            "type": "scattergl"
           }
          ],
          "scattermapbox": [
           {
            "marker": {
             "colorbar": {
              "outlinewidth": 0,
              "ticks": ""
             }
            },
            "type": "scattermapbox"
           }
          ],
          "scatterpolar": [
           {
            "marker": {
             "colorbar": {
              "outlinewidth": 0,
              "ticks": ""
             }
            },
            "type": "scatterpolar"
           }
          ],
          "scatterpolargl": [
           {
            "marker": {
             "colorbar": {
              "outlinewidth": 0,
              "ticks": ""
             }
            },
            "type": "scatterpolargl"
           }
          ],
          "scatterternary": [
           {
            "marker": {
             "colorbar": {
              "outlinewidth": 0,
              "ticks": ""
             }
            },
            "type": "scatterternary"
           }
          ],
          "surface": [
           {
            "colorbar": {
             "outlinewidth": 0,
             "ticks": ""
            },
            "colorscale": [
             [
              0,
              "#0d0887"
             ],
             [
              0.1111111111111111,
              "#46039f"
             ],
             [
              0.2222222222222222,
              "#7201a8"
             ],
             [
              0.3333333333333333,
              "#9c179e"
             ],
             [
              0.4444444444444444,
              "#bd3786"
             ],
             [
              0.5555555555555556,
              "#d8576b"
             ],
             [
              0.6666666666666666,
              "#ed7953"
             ],
             [
              0.7777777777777778,
              "#fb9f3a"
             ],
             [
              0.8888888888888888,
              "#fdca26"
             ],
             [
              1,
              "#f0f921"
             ]
            ],
            "type": "surface"
           }
          ],
          "table": [
           {
            "cells": {
             "fill": {
              "color": "#EBF0F8"
             },
             "line": {
              "color": "white"
             }
            },
            "header": {
             "fill": {
              "color": "#C8D4E3"
             },
             "line": {
              "color": "white"
             }
            },
            "type": "table"
           }
          ]
         },
         "layout": {
          "annotationdefaults": {
           "arrowcolor": "#2a3f5f",
           "arrowhead": 0,
           "arrowwidth": 1
          },
          "autotypenumbers": "strict",
          "coloraxis": {
           "colorbar": {
            "outlinewidth": 0,
            "ticks": ""
           }
          },
          "colorscale": {
           "diverging": [
            [
             0,
             "#8e0152"
            ],
            [
             0.1,
             "#c51b7d"
            ],
            [
             0.2,
             "#de77ae"
            ],
            [
             0.3,
             "#f1b6da"
            ],
            [
             0.4,
             "#fde0ef"
            ],
            [
             0.5,
             "#f7f7f7"
            ],
            [
             0.6,
             "#e6f5d0"
            ],
            [
             0.7,
             "#b8e186"
            ],
            [
             0.8,
             "#7fbc41"
            ],
            [
             0.9,
             "#4d9221"
            ],
            [
             1,
             "#276419"
            ]
           ],
           "sequential": [
            [
             0,
             "#0d0887"
            ],
            [
             0.1111111111111111,
             "#46039f"
            ],
            [
             0.2222222222222222,
             "#7201a8"
            ],
            [
             0.3333333333333333,
             "#9c179e"
            ],
            [
             0.4444444444444444,
             "#bd3786"
            ],
            [
             0.5555555555555556,
             "#d8576b"
            ],
            [
             0.6666666666666666,
             "#ed7953"
            ],
            [
             0.7777777777777778,
             "#fb9f3a"
            ],
            [
             0.8888888888888888,
             "#fdca26"
            ],
            [
             1,
             "#f0f921"
            ]
           ],
           "sequentialminus": [
            [
             0,
             "#0d0887"
            ],
            [
             0.1111111111111111,
             "#46039f"
            ],
            [
             0.2222222222222222,
             "#7201a8"
            ],
            [
             0.3333333333333333,
             "#9c179e"
            ],
            [
             0.4444444444444444,
             "#bd3786"
            ],
            [
             0.5555555555555556,
             "#d8576b"
            ],
            [
             0.6666666666666666,
             "#ed7953"
            ],
            [
             0.7777777777777778,
             "#fb9f3a"
            ],
            [
             0.8888888888888888,
             "#fdca26"
            ],
            [
             1,
             "#f0f921"
            ]
           ]
          },
          "colorway": [
           "#636efa",
           "#EF553B",
           "#00cc96",
           "#ab63fa",
           "#FFA15A",
           "#19d3f3",
           "#FF6692",
           "#B6E880",
           "#FF97FF",
           "#FECB52"
          ],
          "font": {
           "color": "#2a3f5f"
          },
          "geo": {
           "bgcolor": "white",
           "lakecolor": "white",
           "landcolor": "#E5ECF6",
           "showlakes": true,
           "showland": true,
           "subunitcolor": "white"
          },
          "hoverlabel": {
           "align": "left"
          },
          "hovermode": "closest",
          "mapbox": {
           "style": "light"
          },
          "paper_bgcolor": "white",
          "plot_bgcolor": "#E5ECF6",
          "polar": {
           "angularaxis": {
            "gridcolor": "white",
            "linecolor": "white",
            "ticks": ""
           },
           "bgcolor": "#E5ECF6",
           "radialaxis": {
            "gridcolor": "white",
            "linecolor": "white",
            "ticks": ""
           }
          },
          "scene": {
           "xaxis": {
            "backgroundcolor": "#E5ECF6",
            "gridcolor": "white",
            "gridwidth": 2,
            "linecolor": "white",
            "showbackground": true,
            "ticks": "",
            "zerolinecolor": "white"
           },
           "yaxis": {
            "backgroundcolor": "#E5ECF6",
            "gridcolor": "white",
            "gridwidth": 2,
            "linecolor": "white",
            "showbackground": true,
            "ticks": "",
            "zerolinecolor": "white"
           },
           "zaxis": {
            "backgroundcolor": "#E5ECF6",
            "gridcolor": "white",
            "gridwidth": 2,
            "linecolor": "white",
            "showbackground": true,
            "ticks": "",
            "zerolinecolor": "white"
           }
          },
          "shapedefaults": {
           "line": {
            "color": "#2a3f5f"
           }
          },
          "ternary": {
           "aaxis": {
            "gridcolor": "white",
            "linecolor": "white",
            "ticks": ""
           },
           "baxis": {
            "gridcolor": "white",
            "linecolor": "white",
            "ticks": ""
           },
           "bgcolor": "#E5ECF6",
           "caxis": {
            "gridcolor": "white",
            "linecolor": "white",
            "ticks": ""
           }
          },
          "title": {
           "x": 0.05
          },
          "xaxis": {
           "automargin": true,
           "gridcolor": "white",
           "linecolor": "white",
           "ticks": "",
           "title": {
            "standoff": 15
           },
           "zerolinecolor": "white",
           "zerolinewidth": 2
          },
          "yaxis": {
           "automargin": true,
           "gridcolor": "white",
           "linecolor": "white",
           "ticks": "",
           "title": {
            "standoff": 15
           },
           "zerolinecolor": "white",
           "zerolinewidth": 2
          }
         }
        },
        "xaxis": {
         "anchor": "y",
         "domain": [
          0,
          1
         ],
         "title": {
          "text": "i"
         }
        },
        "yaxis": {
         "anchor": "x",
         "domain": [
          0,
          1
         ],
         "range": [
          0,
          2
         ],
         "title": {
          "text": "spread"
         }
        }
       }
      }
     },
     "metadata": {},
     "output_type": "display_data"
    }
   ],
   "source": [
    "df_stat = df.groupby(by=['i','class']).mean()\n",
    "df_stat.loc[:,'i'] = [i[0] for i in df_stat.index]\n",
    "df_stat.loc[:,'class'] = [i[1] for i in df_stat.index]\n",
    "# ax = sns.barplot(data=df_stat, x='i', y='spread', hue='class')\n",
    "# ax.set_ylim(0,2)\n",
    "# plt.show()\n",
    "fig = px.bar(df_stat, x='i', y='spread', color='class', barmode='group', range_y=(0,2))\n",
    "fig.show()"
   ]
  },
  {
   "cell_type": "code",
   "execution_count": null,
   "metadata": {},
   "outputs": [],
   "source": []
  }
 ],
 "metadata": {
  "kernelspec": {
   "display_name": "Python 3.9.12 ('GLAMMenv')",
   "language": "python",
   "name": "python3"
  },
  "language_info": {
   "codemirror_mode": {
    "name": "ipython",
    "version": 3
   },
   "file_extension": ".py",
   "mimetype": "text/x-python",
   "name": "python",
   "nbconvert_exporter": "python",
   "pygments_lexer": "ipython3",
   "version": "3.9.12"
  },
  "orig_nbformat": 4,
  "vscode": {
   "interpreter": {
    "hash": "45d01050729016a143313041389bf5d5eedbab28d072717fd5540c6a2b9cf158"
   }
  }
 },
 "nbformat": 4,
 "nbformat_minor": 2
}
